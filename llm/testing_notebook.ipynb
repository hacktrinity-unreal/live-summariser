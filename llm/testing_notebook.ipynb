{
 "cells": [
  {
   "cell_type": "code",
   "execution_count": 18,
   "metadata": {},
   "outputs": [
    {
     "name": "stdout",
     "output_type": "stream",
     "text": [
      "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\n"
     ]
    }
   ],
   "source": [
    "from openai import OpenAI\n",
    "import os\n",
    "\n",
    "os.system(\"sh ../.env\")\n",
    "YOUR_API_KEY = os.environ.get(\"YOUR_API_KEY\")\n",
    "print(YOUR_API_KEY)\n",
    "MODEL_NAME_HERE = \"llama-3.1-sonar-small-128k-online\""
   ]
  },
  {
   "cell_type": "code",
   "execution_count": 19,
   "metadata": {},
   "outputs": [],
   "source": [
    "import moviepy.editor as mp\n",
    "import speech_recognition as sr\n",
    "import subprocess\n",
    "import os\n",
    "import math\n",
    "\n",
    "\n",
    "def extract_first_minute(input_file, output_file):\n",
    "    \"\"\"\n",
    "    Extract the first minute (60 seconds) from an audio file using FFmpeg.\n",
    "    \n",
    "    :param input_file: The input .wav file path.\n",
    "    :param output_file: The output .wav file path.\n",
    "    \"\"\"\n",
    "    # Use FFmpeg command to extract the first 60 seconds\n",
    "    command = [\n",
    "        \"ffmpeg\",\n",
    "        \"-i\", input_file,      # Input file\n",
    "        \"-t\", \"60\",            # Duration (60 seconds)\n",
    "        \"-c\", \"copy\",          # No re-encoding, just copy\n",
    "        output_file            # Output file path\n",
    "    ]\n",
    "    \n",
    "    # Run the command\n",
    "    subprocess.run(command, check=True)\n",
    "    print(f\"Extracted first minute to: {output_file}\")\n",
    "\n",
    "\n",
    "def speech_to_text(video_path: str) -> str:\n",
    "    try:    \n",
    "        text=  _recognise_text(\"working.wav\")\n",
    "    except:\n",
    "        video = mp.VideoFileClip(video_path)\n",
    "        audio = video.audio\n",
    "\n",
    "        path = f\"{_strip_extension(video_path)}.wav\"\n",
    "        audio.write_audiofile(path)\n",
    "\n",
    "\n",
    "        extract_first_minute(\"oj1.wav\", \"working.wav\")\n",
    "\n",
    "        text=  _recognise_text(\"working.wav\")\n",
    "    return text\n",
    "\n",
    "\n",
    "def _strip_extension(file_path: str) -> str:\n",
    "    parts = file_path.split(\".\")\n",
    "    if len(parts) > 1:\n",
    "        return \".\".join(parts[:-1])\n",
    "    return file_path\n",
    "\n",
    "\n",
    "def _recognise_text(audio_path: str) -> str:\n",
    "    recogniser = sr.Recognizer()\n",
    "    with sr.AudioFile(audio_path) as source:\n",
    "        data = recogniser.record(source)\n",
    "\n",
    "    text = recogniser.recognize_google(data)\n",
    "    return text"
   ]
  },
  {
   "cell_type": "code",
   "execution_count": 20,
   "metadata": {},
   "outputs": [],
   "source": [
    "#text = speech_to_text(\"oj.wav\")\n",
    "\n",
    "text = \"\"\"\n",
    "Plaintiff Motion (Goldman) to Bar Theory that Glove Was Planted\n",
    "\n",
    "MITCHELL, SILBERBERG & KNUPP LLP\n",
    "DANIEL M. PETROCELLI (State Bar No. 97802)\n",
    "EDWARD M. MEDVENE (State Bar No. 32227)\n",
    "THOMAS P. LAMBERT (State Bar No. 50952)\n",
    "PETER B. GELBLUM (State Bar No. 102695)\n",
    "11377 West Olympic Boulevard\n",
    "Los Angeles, California 900641683\n",
    "(310) 312-2000\n",
    "Attorneys for Plaintiff\n",
    "FREDRIC GOLDMAN\n",
    "\n",
    "SUPERIOR COURT OF THE STATE OF CALIFORNIA FOR THE COUNTY OF LOS ANGELES\n",
    "\n",
    "SHARON RUFO,\n",
    "Plaintiff,\n",
    "vs.\n",
    "ORENTHAL JAMES SIMPSON, et al.,\n",
    "Defendants;\n",
    "\n",
    "FREDRIC GOLDMAN, etc. et al.,\n",
    "Plaintiffs,\n",
    "v.\n",
    "ORENTHAL JAMES SIMPSON, et al.,\n",
    "Defendants.\n",
    "\n",
    "LOUIS H. BROWN, etc.,\n",
    "Plaintiff,\n",
    "v.\n",
    "ORENTHAL JAMES SIMPSON,\n",
    "Defendant.\n",
    "\n",
    "Case No. SC 031947\n",
    "Consolidated With\n",
    "Case No. SC 036340\n",
    "And\n",
    "Case No. SC 036876\n",
    "\n",
    "MOTION IN LIMINE OP PLAINTIFF FREDRIC GOLDMAN TO EXCLUDE ARGUMENT OR QUESTIONING REGARDING THE GLOVE FOUND AT DEFENDANT ORENTHAL JAMES SIMPSON'S ROCKINGHAM ESTATE BEING PLANTED\n",
    "\n",
    "Trial Date: September 17, 1996\n",
    "\n",
    "[ALTERNATIVE TO GOLDMAN'S MOTION IN LIMINE TO PRECLUDE ARGUMENT AND QUESTIONING REGARDING PLANTING OF EVIDENCE]\n",
    "\n",
    "GOLDMAN MOTION NO. 4\n",
    "\n",
    "As an alternative to his Motion in Limine to Preclude Argument and ~ Questioning Regarding Planting of Evidence (the \"Planting Motion\"), which seeks to preclude argument and questioning regarding planting of all evidence in this case, plaintiff Fredric Goldman submits this motion.\n",
    "\n",
    "A leather glove found at defendant Orenthal James Simpson's Rockingham estate a few hours after the bodies of Nicole Brown Simpson and Ronald Goldman were found at Nicole's home on Bundy Drive matched a glove found at the Bundy crime scene. The \"Rockingham glove\" contained the blood of Simpson, Nicole, and Ron, hair from Ron and Nicole, fibers from Ron's pants and shirt, and fibers from Simpson's Bronco. By this motion, Goldman asks this Court to enter an order precluding Simpson from presenting argument and questioning witnesses at trial to support his speculative contention that this glove was \"planted,\" i.e., left where it was found by someone other than Simpson.\n",
    "\n",
    "As set forth in the Planting Motion, Simpson will have the burden of proof in this case to establish by a preponderance of the evidence that each particular item of evidence was planted. Evid. Code 606, 660, 664. As also discussed in the Planting Motion, Simpson may not question witnesses or present argument regarding his planting theory unless he can present both \"substantial evidence\" that the particular item of evidence was planted and \"direct or circumstantial evidence linking\" a particular person to the planting of the evidence; evidence showing merely that a third person had a \"motive or opportunity\" to commit the act is not sufficient. People v. Ponce, 44 Cal. App. 4th 1380, 1389-90 (1996); People v. Kaurish, 52 Cal. 3d 648, 685 (1990).\n",
    "\n",
    "Simpson's evidence, as revealed by his interrogatory responses, is such that no reasonable jury could find that Simpson has met his burden of proof on this issue. See Declaration of Daniel M. Petrocelli (filed concurrently herewith) Paragraph 7. Despite the presence of dozens of investigators, including police officers, criminalists, photographers, and members of the media-and general public at the crime scene, and despite exhaustive investigations of this crime by Simpson, the LAPD, and numerous members of the media for over two years, there exists not one person who can confirm even a single element of Simpson's outlandish planting theory: that Fuhrman, without knowing whether Simpson had an alibi, whose blood was at the scene scene, or whether any other suspect existed, (1) found a second glove at Bundy that had escaped detection by any other person; (2) removed the glove without detection by anyone; (3) planted Simpson's blood on the glove, even though he had no possible way of obtaining any of Simpson's blood at that time; and (4) somehow hid the glove, travelled to Rockingham, and planted the glove there, again without detection from anyone, and without knowing whether the spot he chose to plant the glove had already been inspected by Kato Kaelin or anyone else. Simpson must argue that Fuhrman did this knowing that his actions subjected him to the death penalty for planting evidence of a capital crime.\n",
    "\n",
    "Instead, Simpson's response to Interrogatory No. 71 relies on speculation and conjecture, stating five equivocal \"facts\" that constitute the only support for Simpson's glove-planting theory. These \"facts\" are entirely neutral, and have no tendency in reason to suggest any improper conduct by anyone. These \"facts\" are plainly insufficient to permit Simpson to argue to the jury that the glove was planted.\n",
    "\n",
    "1. \"[T]here was no blood trail leading to where [the glove] was found.\" This is probative of nothing, because there is no evidence to suggest that there would have been such a trail if Simpson dropped the glove.\n",
    "\n",
    "2. The glove \"appeared to be moist when it was found in the morning.\" This is probative of nothing, because there is no evidence to suggest that the | glove would not have been moist if it was left by Simpson the previous night. Moreover, this contention ignores the undisputed fact that tests showed that the surface | of the glove contained the blood of Nicole, Ron, and Simpson. Fuhrman could not possibly have placed Simpson's blood there, because Simpson did not give a blood sample until the afternoon of June 13 -- after the glove had been collected by criminalists. Simpson has no evidence -- only wild, unsupported speculation - that some unspecified person added Simpson's blood to the glove after it was booked into evidence but before it was subjected to any testing.\n",
    "\n",
    "3. The glove \"did not have any dirt, plant materials, cobwebs, or other indicia that it had been at that location for a lengthy period of time.\" Again, Simpson offers no evidence that the glove would have been covered with dirt, cobwebs, or \"plant materials\" if he had dropped it the night before.\n",
    "\n",
    "4. \"There was no evidence of blood on the ground under the glove.\" Again, this evidence has no probative value, because Simpson offers no evidence that there would have been blood on the ground under the glove if Simpson had dropped it the night before.\n",
    "\n",
    "5. \"There was no evidence that anyone could have or did climb over the fence in the area where the item was found.\" Simpson does not explain what such \"evidence\" would be or why it would exist if Simpson had killed Ron and Nicole. The asserted lack of such evidence does not tend in reason to prove that the glove was~ planted. --\n",
    "\n",
    "Based on the paucity of evidence Simpson has offered, no reasonable jury could find the glove was planted. In the face of the utter absurdity of his theory, Simpson's scintilla of equivocal \"evidence\" is not sufficient to create a factual issue as to whether Fuhrman planted the glove, and can serve only to confuse and mislead the jury. Evid. Code 35 (court may exclude evidence \"if its probative value is substantially outweighed by the probability that its admission will (a) necessitate undue consumption of time or (b) create substantial danger of undue prejudice, of confusing the issues, or of misleading the jury.\").Dated: August 26, 1996MITCHELL, SILBERBERG & KNUPPBy: /s/Daniel M. PetrocelliAttorneys for Plaintiff Fredric Goldman Footnotes:1. Simpson's interrogatory responses also purport to incorporate by reference the entire closing argument of Johnnie Cochran and Barry Scheck from Simpson's murder trial, and to the entire testimony of dozens of witnesses at Simpson's murder trial, grand jury hearing, preliminary hearing, Griffin hearing, the hearing on Simpson's motion to suppress evidence, and to all of the deposition testimony taken in this case of any of the foregoing witnesses and of Gary Siglar. Obviously, little, if any, of this voluminous testimony supports Simpson's claim that the glove was planted, and Simpson's effort to hide his lack of evidence through \"references\" to thousands of pages of testimony is transparent. \"\"\"\n",
    "text = speech_to_text(\"/home/fedora/data/oj1.mp4\")\n",
    "\n"
   ]
  },
  {
   "cell_type": "code",
   "execution_count": 21,
   "metadata": {},
   "outputs": [
    {
     "name": "stdout",
     "output_type": "stream",
     "text": [
      "that was discussed on Thursday depicting the item at the defense contends maybe the glove and the basis of the subjection was not discovered until quite recently in fact last night and is stated in a declaration that we just filed with the court of a videotape engineer who took a look at this video I'm not sure that I can I hope I'm not mistaken what's in the declaration because I don't understand all\n"
     ]
    }
   ],
   "source": [
    "print(text)"
   ]
  },
  {
   "cell_type": "code",
   "execution_count": 22,
   "metadata": {},
   "outputs": [
    {
     "name": "stdout",
     "output_type": "stream",
     "text": [
      "Chunk 1:\n",
      "that was discussed on Thursday depicting the item at the defense contends maybe the glove and the basis of the subjection was not discovered until quite recently in fact last night and is stated in a declaration that we just filed with the court of a videotape engineer who took a look at this video I'm not sure that I can I hope I'm not mistaken what's in the declaration because I don't understand all\n",
      "\n"
     ]
    }
   ],
   "source": [
    "import tiktoken\n",
    "\n",
    "def chunk_trancript(text):\n",
    "# Load GPT-4 tokenizer\n",
    "    encoding = tiktoken.encoding_for_model(\"gpt-4o\")\n",
    "    max_tokens = 1000\n",
    "    tokens = encoding.encode(text)\n",
    "    chunks = [tokens[i:i + max_tokens] for i in range(0, len(tokens), max_tokens)]\n",
    "\n",
    "    \n",
    "    text_chunks = [encoding.decode(chunk) for chunk in chunks]\n",
    "    return text_chunks\n",
    "    \n",
    "\n",
    "text_chunks = chunk_trancript(text)\n",
    "for idx, chunk in enumerate(text_chunks):\n",
    "        print(f\"Chunk {idx+1}:\\n{chunk}\\n\")"
   ]
  },
  {
   "cell_type": "code",
   "execution_count": 23,
   "metadata": {},
   "outputs": [
    {
     "name": "stdout",
     "output_type": "stream",
     "text": [
      "ChatCompletion(id='5585cb51-17c1-4f1c-984d-282c0e33fb95', choices=[Choice(finish_reason='stop', index=0, logprobs=None, message=ChatCompletionMessage(content='The document discusses a defense strategy in a legal case, specifically focusing on the bloody glove evidence. Here is a summary of the key points:\\n\\n1. **Defense Strategy**: The defense team, led by Robert Shapiro, is considering a provocative theory that Detective Mark Fuhrman, a police officer involved in the case, planted the bloody glove at O.J. Simpson\\'s property. This theory aims to turn the prosecution\\'s strong evidence against them by suggesting a police conspiracy.\\n\\n2. **Theory Details**: The defense suggests that Fuhrman, who found the glove, might have transported it from the crime scene to Simpson\\'s house and then \"found\" it again in an alleyway, making him appear as the hero of the case. This theory hinges on the idea that the blood on the glove could be evidence of Fuhrman\\'s actions rather than Simpson\\'s guilt.\\n\\n3. **Evidence Tampering Allegations**: The defense also alleges that there was tampering with evidence beyond just placing the second glove at Simpson\\'s house. They claim that the prosecution unfairly refused to share blood and hair samples, which the defense wants to examine independently.\\n\\n4. **Jury Instruction Request**: The defense plans to ask the judge for an unusual instruction to the jury, stating that due to prosecution errors, they were not allowed to conduct a full range of forensic tests on the evidence. This would allow them to argue that any failed exonerations were due to lack of access to adequate raw material.\\n\\n5. **Investigation of Fuhrman**: Simpson\\'s lawyers are continuing a vigorous investigation into Fuhrman\\'s past, alleging that there are unbelievable claims against him. However, Fuhrman denies any wrongdoing, calling the question about planting the glove \"ridiculous\".\\n\\n6. **Legal Maneuvering**: The defense is employing a \"judo defense,\" turning the strength of the prosecution\\'s case against them by making it seem like bad evidence becomes good if it can be argued that it was tampered with or not properly examined.\\n\\nThis summary captures the essence of the defense strategy and its basis on the glove evidence, highlighting key points about the alleged tampering, jury instructions, and investigation into Detective Fuhrman.', refusal=None, role='assistant', function_call=None, tool_calls=None), delta={'role': 'assistant', 'content': ''})], created=1728737002, model='llama-3.1-sonar-small-128k-online', object='chat.completion', service_tier=None, system_fingerprint=None, usage=CompletionUsage(completion_tokens=453, prompt_tokens=135, total_tokens=588, completion_tokens_details=None, prompt_tokens_details=None))\n"
     ]
    }
   ],
   "source": [
    "def gen_message(chunks):\n",
    "    prev_chunk = None\n",
    "    prev_summarization = None\n",
    "    messages = []\n",
    "    for i in range(len(chunks)):\n",
    "        current_chunk = chunks[i]\n",
    "        current_message = [\n",
    "            {\n",
    "                \"role\": \"system\",\n",
    "                \"content\": (\n",
    "                    \"You are an artificial intelligence assistant and you need to \"\n",
    "                    \"engage in a helpful, detailed, polite conversation with a user.\"\n",
    "                ),\n",
    "            },\n",
    "            {\n",
    "                \"role\": \"user\",\n",
    "                \"content\": (\n",
    "                    f\"Summarize the current body of text, which is a chunk of a larger document {current_chunk}. Your summarization should contain all the important details in a readable form\"\n",
    "                ),\n",
    "            },\n",
    "        ]\n",
    "        messages.append(current_message)\n",
    "    return messages\n",
    "\n",
    "message_chain = gen_message(text_chunks)\n",
    "\n",
    "client = OpenAI(api_key=YOUR_API_KEY, base_url=\"https://api.perplexity.ai\")\n",
    "\n",
    "outputs = []\n",
    "# chat completion without streaming\n",
    "for message in message_chain:\n",
    "    response = client.chat.completions.create(\n",
    "        model=MODEL_NAME_HERE,\n",
    "        messages=message,\n",
    "    )\n",
    "    text_response = response.choices[0].message.content.strip()\n",
    "    print(response)\n",
    "    outputs.append(text_response)"
   ]
  },
  {
   "cell_type": "code",
   "execution_count": 24,
   "metadata": {},
   "outputs": [
    {
     "data": {
      "text/plain": [
       "'The document discusses a defense strategy in a legal case, specifically focusing on the bloody glove evidence. Here is a summary of the key points:\\n\\n1. **Defense Strategy**: The defense team, led by Robert Shapiro, is considering a provocative theory that Detective Mark Fuhrman, a police officer involved in the case, planted the bloody glove at O.J. Simpson\\'s property. This theory aims to turn the prosecution\\'s strong evidence against them by suggesting a police conspiracy.\\n\\n2. **Theory Details**: The defense suggests that Fuhrman, who found the glove, might have transported it from the crime scene to Simpson\\'s house and then \"found\" it again in an alleyway, making him appear as the hero of the case. This theory hinges on the idea that the blood on the glove could be evidence of Fuhrman\\'s actions rather than Simpson\\'s guilt.\\n\\n3. **Evidence Tampering Allegations**: The defense also alleges that there was tampering with evidence beyond just placing the second glove at Simpson\\'s house. They claim that the prosecution unfairly refused to share blood and hair samples, which the defense wants to examine independently.\\n\\n4. **Jury Instruction Request**: The defense plans to ask the judge for an unusual instruction to the jury, stating that due to prosecution errors, they were not allowed to conduct a full range of forensic tests on the evidence. This would allow them to argue that any failed exonerations were due to lack of access to adequate raw material.\\n\\n5. **Investigation of Fuhrman**: Simpson\\'s lawyers are continuing a vigorous investigation into Fuhrman\\'s past, alleging that there are unbelievable claims against him. However, Fuhrman denies any wrongdoing, calling the question about planting the glove \"ridiculous\".\\n\\n6. **Legal Maneuvering**: The defense is employing a \"judo defense,\" turning the strength of the prosecution\\'s case against them by making it seem like bad evidence becomes good if it can be argued that it was tampered with or not properly examined.\\n\\nThis summary captures the essence of the defense strategy and its basis on the glove evidence, highlighting key points about the alleged tampering, jury instructions, and investigation into Detective Fuhrman.'"
      ]
     },
     "execution_count": 24,
     "metadata": {},
     "output_type": "execute_result"
    }
   ],
   "source": [
    "response.choices[0].message.content.strip()"
   ]
  },
  {
   "cell_type": "code",
   "execution_count": 25,
   "metadata": {},
   "outputs": [
    {
     "name": "stdout",
     "output_type": "stream",
     "text": [
      "The document discusses a defense strategy in a legal case, specifically focusing on the bloody glove evidence. Here is a summary of the key points:\n",
      "\n",
      "1. **Defense Strategy**: The defense team, led by Robert Shapiro, is considering a provocative theory that Detective Mark Fuhrman, a police officer involved in the case, planted the bloody glove at O.J. Simpson's property. This theory aims to turn the prosecution's strong evidence against them by suggesting a police conspiracy.\n",
      "\n",
      "2. **Theory Details**: The defense suggests that Fuhrman, who found the glove, might have transported it from the crime scene to Simpson's house and then \"found\" it again in an alleyway, making him appear as the hero of the case. This theory hinges on the idea that the blood on the glove could be evidence of Fuhrman's actions rather than Simpson's guilt.\n",
      "\n",
      "3. **Evidence Tampering Allegations**: The defense also alleges that there was tampering with evidence beyond just placing the second glove at Simpson's house. They claim that the prosecution unfairly refused to share blood and hair samples, which the defense wants to examine independently.\n",
      "\n",
      "4. **Jury Instruction Request**: The defense plans to ask the judge for an unusual instruction to the jury, stating that due to prosecution errors, they were not allowed to conduct a full range of forensic tests on the evidence. This would allow them to argue that any failed exonerations were due to lack of access to adequate raw material.\n",
      "\n",
      "5. **Investigation of Fuhrman**: Simpson's lawyers are continuing a vigorous investigation into Fuhrman's past, alleging that there are unbelievable claims against him. However, Fuhrman denies any wrongdoing, calling the question about planting the glove \"ridiculous\".\n",
      "\n",
      "6. **Legal Maneuvering**: The defense is employing a \"judo defense,\" turning the strength of the prosecution's case against them by making it seem like bad evidence becomes good if it can be argued that it was tampered with or not properly examined.\n",
      "\n",
      "This summary captures the essence of the defense strategy and its basis on the glove evidence, highlighting key points about the alleged tampering, jury instructions, and investigation into Detective Fuhrman.\n"
     ]
    }
   ],
   "source": [
    "print(\" \".join(outputs))"
   ]
  }
 ],
 "metadata": {
  "kernelspec": {
   "display_name": "Python 3",
   "language": "python",
   "name": "python3"
  },
  "language_info": {
   "codemirror_mode": {
    "name": "ipython",
    "version": 3
   },
   "file_extension": ".py",
   "mimetype": "text/x-python",
   "name": "python",
   "nbconvert_exporter": "python",
   "pygments_lexer": "ipython3",
   "version": "3.12.6"
  }
 },
 "nbformat": 4,
 "nbformat_minor": 2
}
