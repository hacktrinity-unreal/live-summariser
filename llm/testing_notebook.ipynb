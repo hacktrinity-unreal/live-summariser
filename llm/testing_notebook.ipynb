{
 "cells": [
  {
   "cell_type": "code",
   "execution_count": 35,
   "metadata": {},
   "outputs": [
    {
     "name": "stdout",
     "output_type": "stream",
     "text": [
      "None\n"
     ]
    }
   ],
   "source": [
    "from openai import OpenAI\n",
    "import os\n",
    "\n",
    "os.system(\"sh ../.env\")\n",
    "YOUR_API_KEY = os.environ.get(\"YOUR_API_KEY\")\n",
    "print(YOUR_API_KEY)\n",
    "MODEL_NAME_HERE = \"llama-3.1-sonar-small-128k-online\""
   ]
  },
  {
   "cell_type": "code",
   "execution_count": 36,
   "metadata": {},
   "outputs": [
    {
     "name": "stdout",
     "output_type": "stream",
     "text": [
      "ChatCompletion(id='abe86b2e-fa77-4377-9346-258e57717f7d', choices=[Choice(finish_reason='stop', index=0, logprobs=None, message=ChatCompletionMessage(content='Estimating the number of stars in the universe is a complex task due to the vastness and diversity of galaxies. Here are the various estimates based on recent scientific research:\\n\\n1. **European Space Agency (ESA) Estimate**: Astronomers estimate there are about 100 thousand million stars in the Milky Way alone. Extrapolating this to the entire universe, with approximately 10^11 to 10^12 galaxies, gives a rough estimate of 10^22 to 10^24 stars in the universe.\\n\\n2. **Recent Studies**: More recent studies suggest that the Milky Way contains approximately 400 billion stars, and there are between 6 and 20 trillion galaxies in the observable universe. Using these numbers, the total number of stars would be significantly lower than the initial rough estimate, likely in the range of 2.21 sextillion (2.21 × 10^21) stars.\\n\\n3. **Hubble Space Telescope Data**: The Hubble Space Telescope has provided detailed images of galaxies, suggesting there are about 2 trillion galaxies in the observable universe. If each galaxy contains approximately 100 million stars, this would result in about 2 × 10^23 stars in the observable universe.\\n\\n4. **Current Estimates**: Astronomers have put current estimates of the total stellar population at roughly 70 billion trillion (7 × 10^22) stars in the observable universe, though this number is subject to change as more sensitive telescopes reveal fainter galaxies and stars.\\n\\n5. **Astro for Kids Estimate**: Another estimate suggests approximately 200 billion trillion stars in the universe, or 200 sextillion.\\n\\nIn summary, while there is no definitive answer, the most recent and reliable estimates suggest there are approximately 2.21 sextillion (2.21 × 10^21) stars in the observable universe, with the total number potentially being higher if we include non-observable regions of the universe.', refusal=None, role='assistant', function_call=None, tool_calls=None), delta={'role': 'assistant', 'content': ''})], created=1728732617, model='llama-3.1-sonar-small-128k-online', object='chat.completion', service_tier=None, system_fingerprint=None, usage=CompletionUsage(completion_tokens=400, prompt_tokens=31, total_tokens=431, completion_tokens_details=None, prompt_tokens_details=None))\n"
     ]
    }
   ],
   "source": [
    "messages = [\n",
    "    {\n",
    "        \"role\": \"system\",\n",
    "        \"content\": (\n",
    "            \"You are an artificial intelligence assistant and you need to \"\n",
    "            \"engage in a helpful, detailed, polite conversation with a user.\"\n",
    "        ),\n",
    "    },\n",
    "    {\n",
    "        \"role\": \"user\",\n",
    "        \"content\": (\"How many stars are in the universe?\"),\n",
    "    },\n",
    "]\n",
    "\n",
    "client = OpenAI(api_key=YOUR_API_KEY, base_url=\"https://api.perplexity.ai\")\n",
    "\n",
    "# chat completion without streaming\n",
    "response = client.chat.completions.create(\n",
    "    model=MODEL_NAME_HERE,\n",
    "    messages=messages,\n",
    ")\n",
    "print(response)\n"
   ]
  },
  {
   "cell_type": "code",
   "execution_count": 38,
   "metadata": {},
   "outputs": [
    {
     "data": {
      "text/plain": [
       "'Estimating the number of stars in the universe is a complex task due to the vastness and diversity of galaxies. Here are the various estimates based on recent scientific research:\\n\\n1. **European Space Agency (ESA) Estimate**: Astronomers estimate there are about 100 thousand million stars in the Milky Way alone. Extrapolating this to the entire universe, with approximately 10^11 to 10^12 galaxies, gives a rough estimate of 10^22 to 10^24 stars in the universe.\\n\\n2. **Recent Studies**: More recent studies suggest that the Milky Way contains approximately 400 billion stars, and there are between 6 and 20 trillion galaxies in the observable universe. Using these numbers, the total number of stars would be significantly lower than the initial rough estimate, likely in the range of 2.21 sextillion (2.21 × 10^21) stars.\\n\\n3. **Hubble Space Telescope Data**: The Hubble Space Telescope has provided detailed images of galaxies, suggesting there are about 2 trillion galaxies in the observable universe. If each galaxy contains approximately 100 million stars, this would result in about 2 × 10^23 stars in the observable universe.\\n\\n4. **Current Estimates**: Astronomers have put current estimates of the total stellar population at roughly 70 billion trillion (7 × 10^22) stars in the observable universe, though this number is subject to change as more sensitive telescopes reveal fainter galaxies and stars.\\n\\n5. **Astro for Kids Estimate**: Another estimate suggests approximately 200 billion trillion stars in the universe, or 200 sextillion.\\n\\nIn summary, while there is no definitive answer, the most recent and reliable estimates suggest there are approximately 2.21 sextillion (2.21 × 10^21) stars in the observable universe, with the total number potentially being higher if we include non-observable regions of the universe.'"
      ]
     },
     "execution_count": 38,
     "metadata": {},
     "output_type": "execute_result"
    }
   ],
   "source": [
    "response.choices[0].message.content.strip()"
   ]
  }
 ],
 "metadata": {
  "kernelspec": {
   "display_name": "Python 3",
   "language": "python",
   "name": "python3"
  },
  "language_info": {
   "codemirror_mode": {
    "name": "ipython",
    "version": 3
   },
   "file_extension": ".py",
   "mimetype": "text/x-python",
   "name": "python",
   "nbconvert_exporter": "python",
   "pygments_lexer": "ipython3",
   "version": "3.12.6"
  }
 },
 "nbformat": 4,
 "nbformat_minor": 2
}
